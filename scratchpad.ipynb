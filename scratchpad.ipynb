{
 "cells": [
  {
   "cell_type": "code",
   "execution_count": 1,
   "metadata": {
    "collapsed": true
   },
   "outputs": [],
   "source": [
    "# Goal: Generate content for music inspired cocktails\n",
    "template = {\n",
    "    \"title\": \"\", # get list of song names. find rhymes for each word. replace closest word to alcohol. \n",
    "    \"description\": \"\", # tracery grammar \n",
    "    \"brewed_date\": \"\", # date of song\n",
    "    \"style\": \"\", # music genre\n",
    "    \"alcohol_content\": \"\", # random num?\n",
    "    \"notes\": \"\", # list of misc liqeurs\n",
    "    \"pairing\": \"\", # find list of song names. find rhymes for each word, replace closest word to X food\n",
    "    \"serving_suggestion\": \"\" # tracery grammar using words from lyrics (closest words to temperature etc.)\n",
    "}"
   ]
  },
  {
   "cell_type": "code",
   "execution_count": 6,
   "metadata": {
    "collapsed": false
   },
   "outputs": [
    {
     "name": "stdout",
     "output_type": "stream",
     "text": [
      "--2017-09-24 10:08:05--  https://raw.githubusercontent.com/walkerkq/musiclyrics/master/billboard_lyrics_1964-2015.csv\n",
      "Resolving raw.githubusercontent.com... 151.101.164.133\n",
      "Connecting to raw.githubusercontent.com|151.101.164.133|:443... connected.\n",
      "HTTP request sent, awaiting response... 200 OK\n",
      "Length: 7953541 (7.6M) [text/plain]\n",
      "Saving to: ‘scratch_data/lyrics.csv’\n",
      "\n",
      "scratch_data/lyrics 100%[===================>]   7.58M  --.-KB/s    in 0.1s    \n",
      "\n",
      "2017-09-24 10:08:05 (51.7 MB/s) - ‘scratch_data/lyrics.csv’ saved [7953541/7953541]\n",
      "\n"
     ]
    }
   ],
   "source": [
    "# Download data, shell script\n",
    "# song lyrics\n",
    "! wget -O scratch_data/lyrics.csv \\\n",
    "https://raw.githubusercontent.com/walkerkq/musiclyrics/master/billboard_lyrics_1964-2015.csv "
   ]
  },
  {
   "cell_type": "code",
   "execution_count": 48,
   "metadata": {
    "collapsed": false
   },
   "outputs": [
    {
     "name": "stdout",
     "output_type": "stream",
     "text": [
      "680\n"
     ]
    }
   ],
   "source": [
    "import csv\n",
    "lyrics_raw = csv.DictReader(open('scratch_data/lyrics.csv',  encoding='ISO-8859-1'))\n",
    "lyrics = []\n",
    "for row in lyrics_raw:\n",
    "    # Keys: Rank, Song, Artist, Year, Lyrics, Source\n",
    "    not_obscure = int(row['Year']) >= 2010 or (int(row['Rank']) <= 5 and int(row['Year']) >= 1994)\n",
    "    if (not_obscure) :\n",
    "        lyrics.append({\n",
    "            'rank': row['Rank'],\n",
    "            'song': row['Song'],  \n",
    "            'artist': row['Artist'],\n",
    "            'year': row['Year'],\n",
    "            'lyrics': row['Lyrics'],\n",
    "            'source': row['Source']\n",
    "        });\n",
    "\n",
    "print(len(lyrics))"
   ]
  },
  {
   "cell_type": "code",
   "execution_count": null,
   "metadata": {
    "collapsed": true
   },
   "outputs": [],
   "source": []
  }
 ],
 "metadata": {
  "kernelspec": {
   "display_name": "Python 3",
   "language": "python",
   "name": "python3"
  },
  "language_info": {
   "codemirror_mode": {
    "name": "ipython",
    "version": 3
   },
   "file_extension": ".py",
   "mimetype": "text/x-python",
   "name": "python",
   "nbconvert_exporter": "python",
   "pygments_lexer": "ipython3",
   "version": "3.6.0"
  }
 },
 "nbformat": 4,
 "nbformat_minor": 2
}
